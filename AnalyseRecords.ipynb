{
 "cells": [
  {
   "cell_type": "code",
   "execution_count": 1,
   "metadata": {},
   "outputs": [],
   "source": [
    "from CollateFn.CollateFnBase import CollateFnBase\n",
    "\n",
    "CollateFnBase.id2label = CollateFnBase.ATESPid2label\n",
    "CollateFnBase.label2id = CollateFnBase.ATESPlabel2id\n",
    "\n",
    "from ModelSummary.ModelOutputsRecord import ModelOutputsRecord\n",
    "import os\n",
    "import numpy as np\n",
    "import pandas as pd"
   ]
  },
  {
   "cell_type": "code",
   "execution_count": 2,
   "metadata": {},
   "outputs": [],
   "source": [
    "class PairMap:\n",
    "    def __init__(self, logDir='./ModelSummary/Record|0|0|0|0|0/') -> None:\n",
    "        self.logDir = logDir\n",
    "        self.recordsPath = os.listdir(logDir)\n",
    "        self.modelRecords = []\n",
    "        self.loadDir()\n",
    "        self.loadSource2TargetIndex()\n",
    "\n",
    "    def loadDir(self):\n",
    "        for recordPath in self.recordsPath:\n",
    "            if recordPath[-1] == 'd':\n",
    "                modelRecord = ModelOutputsRecord.load(self.logDir + recordPath)\n",
    "                # print('load ' + self.logDir + recordPath)\n",
    "                self.modelRecords.append(modelRecord)\n",
    "    \n",
    "    def loadSource2TargetIndex(self):\n",
    "        languages =['english', 'spanish', 'french']\n",
    "        languageArrg = {\n",
    "            'english': 'en', \n",
    "            'spanish': 'es', \n",
    "            'french': 'fr'\n",
    "        }\n",
    "        self.source2targetMapIndex = {}\n",
    "        for s in languages:\n",
    "            for t in languages:\n",
    "                self.source2targetMapIndex[languageArrg[s]+'2'+languageArrg[t]] = []\n",
    "        \n",
    "        for i, modelRecord in enumerate(self.modelRecords):\n",
    "            self.source2targetMapIndex[languageArrg[modelRecord.dataParams.Source]+'2'+languageArrg[modelRecord.dataParams.Target]].append(i)\n",
    "        \n",
    "    def analyse(self, key):\n",
    "        # 要分析出均值和方差\n",
    "        analyseDic = {}\n",
    "        for source2target, indexs in self.source2targetMapIndex.items():\n",
    "            valueList = [self.modelRecords[index].analyseModel()['test'][key] for index in indexs]\n",
    "            analyseDic[source2target] = (np.round(np.mean(valueList)*100, 3), np.round(np.std(valueList)*100, 3), len(indexs))\n",
    "        return pd.DataFrame(analyseDic)"
   ]
  },
  {
   "cell_type": "code",
   "execution_count": 5,
   "metadata": {},
   "outputs": [
    {
     "name": "stdout",
     "output_type": "stream",
     "text": [
      "    en2en   en2es   en2fr  es2en  es2es  es2fr  fr2en  fr2es  fr2fr\n",
      "0  70.712  66.087  56.651    NaN    NaN    NaN    NaN    NaN    NaN\n",
      "1   1.199   1.522   1.894    NaN    NaN    NaN    NaN    NaN    NaN\n",
      "2   5.000   5.000   5.000    0.0    0.0    0.0    0.0    0.0    0.0\n"
     ]
    }
   ],
   "source": [
    "\n",
    "pairMap = PairMap(\"./1LayerAttentionRecordNER/\")\n",
    "print(pairMap.analyse('MicroF1'))\n",
    "# en2es:66.087±1.522  en2fr:56.651±1.894\n",
    "\n",
    "# baseline:\n",
    "# en2es:66.949±0.380  en2fr:57.197±1.951"
   ]
  },
  {
   "cell_type": "code",
   "execution_count": 7,
   "metadata": {},
   "outputs": [
    {
     "name": "stdout",
     "output_type": "stream",
     "text": [
      "    en2en   en2es   en2fr  es2en  es2es  es2fr  fr2en  fr2es  fr2fr\n",
      "0  71.931  65.251  53.297    NaN    NaN    NaN    NaN    NaN    NaN\n",
      "1   0.819   2.484   3.114    NaN    NaN    NaN    NaN    NaN    NaN\n",
      "2   5.000   5.000   5.000    0.0    0.0    0.0    0.0    0.0    0.0\n"
     ]
    }
   ],
   "source": [
    "pairMap = PairMap(\"./1LayerAttentionRecordTwitterSentiment/\")\n",
    "print(pairMap.analyse('MicroF1'))\n",
    "# en2es:65.251±2.484  en2fr:53.297 ± 3.114\n",
    "\n",
    "# baseline:\n",
    "# en2es:66.949±0.380  en2fr:57.197±1.951"
   ]
  },
  {
   "cell_type": "code",
   "execution_count": 8,
   "metadata": {},
   "outputs": [
    {
     "name": "stdout",
     "output_type": "stream",
     "text": [
      "   en2en   en2es   en2fr  es2en  es2es  es2fr  fr2en  fr2es  fr2fr\n",
      "0    NaN  66.605  56.878    NaN    NaN    NaN    NaN    NaN    NaN\n",
      "1    NaN   1.025   0.859    NaN    NaN    NaN    NaN    NaN    NaN\n",
      "2    0.0   5.000   5.000    0.0    0.0    0.0    0.0    0.0    0.0\n"
     ]
    }
   ],
   "source": [
    "pairMap = PairMap(\"./RecordNER/\")\n",
    "print(pairMap.analyse('MicroF1'))\n",
    "# en2es:66.605±1.025  en2fr:56.878±0.859\n",
    "\n",
    "# baseline:\n",
    "# en2es:66.949±0.380  en2fr:57.197±1.951"
   ]
  },
  {
   "cell_type": "code",
   "execution_count": 9,
   "metadata": {},
   "outputs": [
    {
     "name": "stdout",
     "output_type": "stream",
     "text": [
      "   en2en   en2es   en2fr  es2en  es2es  es2fr  fr2en  fr2es  fr2fr\n",
      "0    NaN  63.964  52.236    NaN    NaN    NaN    NaN    NaN    NaN\n",
      "1    NaN   2.008   1.783    NaN    NaN    NaN    NaN    NaN    NaN\n",
      "2    0.0   5.000   5.000    0.0    0.0    0.0    0.0    0.0    0.0\n"
     ]
    }
   ],
   "source": [
    "pairMap = PairMap(\"./RecordTwitterSentiment/\")\n",
    "print(pairMap.analyse('MicroF1'))\n",
    "# en2es:63.964±2.008  en2fr:52.236±1.783\n",
    "\n",
    "# baseline:\n",
    "# en2es:66.949±0.380  en2fr:57.197±1.951"
   ]
  },
  {
   "cell_type": "code",
   "execution_count": 4,
   "metadata": {},
   "outputs": [
    {
     "name": "stdout",
     "output_type": "stream",
     "text": [
      "   en2en   en2es   en2fr  es2en  es2es  es2fr  fr2en  fr2es  fr2fr\n",
      "0    NaN  66.949  57.197    NaN    NaN    NaN    NaN    NaN    NaN\n",
      "1    NaN   0.380   1.951    NaN    NaN    NaN    NaN    NaN    NaN\n",
      "2    0.0   5.000   5.000    0.0    0.0    0.0    0.0    0.0    0.0\n"
     ]
    }
   ],
   "source": [
    "pairMap = PairMap(\"./RecordXLMRBase/\")\n",
    "print(pairMap.analyse('MicroF1'))\n",
    "\n",
    "# baseline:\n",
    "# en2es:66.949±0.380  en2fr:57.197±1.951"
   ]
  },
  {
   "cell_type": "code",
   "execution_count": null,
   "metadata": {},
   "outputs": [],
   "source": []
  }
 ],
 "metadata": {
  "interpreter": {
   "hash": "09adf8f92ca05d146ea9895e6b1b9eff578f52088b44cd8735948b784e1f3f68"
  },
  "kernelspec": {
   "display_name": "Python 3.8.12 64-bit ('cui': conda)",
   "language": "python",
   "name": "python3"
  },
  "language_info": {
   "codemirror_mode": {
    "name": "ipython",
    "version": 3
   },
   "file_extension": ".py",
   "mimetype": "text/x-python",
   "name": "python",
   "nbconvert_exporter": "python",
   "pygments_lexer": "ipython3",
   "version": "3.8.12"
  },
  "orig_nbformat": 4
 },
 "nbformat": 4,
 "nbformat_minor": 2
}
